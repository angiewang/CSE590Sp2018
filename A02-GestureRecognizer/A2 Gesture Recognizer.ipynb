{
 "cells": [
  {
   "cell_type": "markdown",
   "metadata": {},
   "source": [
    "# Notes\n",
    "This Jupyter Notebook provides you with some basic scaffolding to get you started on the [A2: Gesture Recognizer assignment](https://canvas.uw.edu/courses/1199409/assignments/4176980). In particular, I wrote some parser code and some initial data structures to parse and load the gesture logs recorded with the [A2: Gesture Logger](https://github.com/jonfroehlich/CSE590Sp2018/tree/master/A02-GestureLogger).\n",
    "\n",
    "## Getting Started\n",
    "1. The first thing you need to do is to change the logPath variable to point to the directory with your gesture logs. Scroll down to the \"Load the Data\" cell\n",
    "2. Then, you should be able to select Cell->Run All in the File Menu above and the data should be read in.\n",
    "3. Hopefully, in class, we will have time to visualize and analyze these signals a bit\n",
    "\n",
    "## Dynamic Time Warping\n",
    "If you choose to explore Dynamic Time Warping (DTW), I recommend fastdtw. You can install this by typing the following in cell:\n",
    "```\n",
    "import sys\n",
    "!{sys.executable} -m pip install fastdtw\n",
    "```\n",
    "See https://jakevdp.github.io/blog/2017/12/05/installing-python-packages-from-jupyter/ for more details"
   ]
  },
  {
   "cell_type": "code",
   "execution_count": 2,
   "metadata": {},
   "outputs": [],
   "source": [
    "# This cell includes the major classes used in our classification analyses\n",
    "import matplotlib.pyplot as plt # needed for plotting\n",
    "import numpy as np # numpy is primary library for numeric array (and matrix) handling\n",
    "from scipy import signal \n",
    "\n",
    "# Each accelerometer and gyroscope log file gets parsed and made into a SensorData object\n",
    "class SensorData:\n",
    "    \n",
    "    # Constructors in Python look like this (strangely enough)\n",
    "    # All arguments are numpy arrays except sensorType, which is a str\n",
    "    def __init__(self, sensorType, currentTimeMs, sensorTimestampNano, x, y, z):\n",
    "        self.sensorType = sensorType\n",
    "        \n",
    "        # On my mac, I could cast as straight-up int but on Windows, this failed\n",
    "        # This is because on Windows, a long is 32 bit but on Unix, a long is 64bit\n",
    "        # So, forcing to int64 to be safe. See: https://stackoverflow.com/q/38314118\n",
    "        self.currentTimeMs = currentTimeMs.astype(np.int64)\n",
    "        self.sensorTimestampNano = sensorTimestampNano.astype(np.int64)\n",
    "        \n",
    "        self.x = x.astype(float)\n",
    "        self.y = y.astype(float)\n",
    "        self.z = z.astype(float)\n",
    "   \n",
    "        xSquared = np.multiply(self.x , self.x)\n",
    "        ySquared = np.multiply(self.y, self.y)\n",
    "        zSquared = np.multiply(self.z, self.z)\n",
    "        self.mag = np.sqrt(np.add(xSquared, ySquared, zSquared))\n",
    "        \n",
    "    # Returns a dict of numpy arrays\n",
    "    def get_data(self):\n",
    "        return {\"x\":self.x, \"y\":self.y, \"z\":self.z, \"mag\":self.mag}\n",
    "    \n",
    "    # Pads the end of each data array with zeroes. Throws exception\n",
    "    # if newArrayLength smaller than the current data array (and thus nothing to pad)\n",
    "    def pad_with_zeros(self, newArrayLength):\n",
    "        arrayLengthDiff = newArrayLength - len(self.x)\n",
    "        if arrayLengthDiff < 0:\n",
    "            raise ValueError(\"New array length '{}' must be larger than current array length '{}\".\n",
    "                             format(newArrayLength, len(self.x)))\n",
    "        \n",
    "        # np.pad allows us to pad either the left side, right side, or both sides of an array\n",
    "        # in this case, we are padding only the right side. See: https://docs.scipy.org/doc/numpy/reference/generated/numpy.pad.html\n",
    "        self.x = np.pad(self.x, (0, arrayLengthDiff), 'constant', constant_values=0)\n",
    "        self.y = np.pad(self.y, (0, arrayLengthDiff), 'constant', constant_values=0)\n",
    "        self.z = np.pad(self.z, (0, arrayLengthDiff), 'constant', constant_values=0)\n",
    "        self.mag = np.pad(self.mag, (0, arrayLengthDiff), 'constant', constant_values=0)\n",
    "\n",
    "# A trial is one gesture recording and includes an accel SensorData object and a gyro SensorData object\n",
    "class Trial:\n",
    "    \n",
    "    # We actually parse the sensor log files in the constructor--this is probably bad practice\n",
    "    # But offers a relatively clean solution\n",
    "    def __init__(self, gestureName, endTimeMs, trialNum, accelLogFilenameWithPath, gyroLogFilenameWithPath):\n",
    "        self.gestureName = gestureName\n",
    "        self.trialNum = trialNum\n",
    "        self.endTimeMs = endTimeMs\n",
    "        self.accelLogFilenameWithPath = accelLogFilenameWithPath\n",
    "        self.gyroLogFilenameWithPath = gyroLogFilenameWithPath\n",
    "        \n",
    "        # unpack=True puts each column in its own array, see https://stackoverflow.com/a/20245874\n",
    "        # I had to force all types to strings because auto-type inferencing failed\n",
    "        parsedAccelLogData = np.genfromtxt(accelLogFilenameWithPath, delimiter=',', \n",
    "                              dtype=str, encoding=None, skip_header=1, unpack=True)\n",
    "        \n",
    "        # The asterisk is really cool in Python. It allows us to \"unpack\" this variable\n",
    "        # into arguments needed for the SensorData constructor. Google for \"tuple unpacking\"\n",
    "        self.accel = SensorData(\"Accelerometer\", *parsedAccelLogData[1:])\n",
    "        \n",
    "        parsedGyroLogData = np.genfromtxt(gyroLogFilenameWithPath, delimiter=',', \n",
    "                              dtype=str, encoding=None, skip_header=1, unpack=True)\n",
    "        \n",
    "        self.gyro = SensorData(\"Accelerometer\", *parsedGyroLogData[1:])\n",
    "    \n",
    "    # Utility function that returns the end time as a nice string\n",
    "    def getEndTimeMsAsString(self):\n",
    "        return time.strftime('%Y-%m-%d %H:%M:%S', time.localtime(self.endTimeMs / 1000))"
   ]
  },
  {
   "cell_type": "code",
   "execution_count": 18,
   "metadata": {},
   "outputs": [],
   "source": [
    "# This cell contains our file handling and parsing related functions\n",
    "from os import listdir\n",
    "import ntpath\n",
    "import os\n",
    "\n",
    "# Returns all csv filenames in the given directory\n",
    "def find_csv_filenames( path_to_dir, suffix=\".csv\" ):\n",
    "    filenames = listdir(path_to_dir)\n",
    "    return [ filename for filename in filenames if filename.endswith( suffix ) ]\n",
    "\n",
    "# Parses and creates Trial objects for all csv files in the given dir\n",
    "# Returns a dict() mapping (str: gestureName) to (list: Trial objects)\n",
    "def parse_and_create_gesture_trials( path_to_dir ):\n",
    "    csvFilenames = find_csv_filenames(path_to_dir)\n",
    "    \n",
    "    print(\"Found {} csv files in {}\".format(len(csvFilenames), path_to_dir))\n",
    "    \n",
    "    mapGestureNameToTrialList = dict()\n",
    "    mapGestureNameToMapEndTimeMsToMapSensorToFile = dict()\n",
    "    for csvFilename in csvFilenames:\n",
    "        # parse filename into meaningful parts\n",
    "        filenameNoExt = os.path.splitext(csvFilename)[0];\n",
    "        filenameParts = filenameNoExt.split(\"_\")\n",
    "        gestureName = filenameParts[0]\n",
    "        sensorName = filenameParts[1]\n",
    "        timeMs = int(filenameParts[2])\n",
    "        \n",
    "        # print(\"gestureName={} sensorName={} timeMs={}\".format(gestureName, sensorName, timeMs))\n",
    "        \n",
    "        if gestureName not in mapGestureNameToMapEndTimeMsToMapSensorToFile:\n",
    "            mapGestureNameToMapEndTimeMsToMapSensorToFile[gestureName] = dict()\n",
    "        \n",
    "        if timeMs not in mapGestureNameToMapEndTimeMsToMapSensorToFile[gestureName]:\n",
    "            mapGestureNameToMapEndTimeMsToMapSensorToFile[gestureName][timeMs] = dict()\n",
    "        \n",
    "        mapGestureNameToMapEndTimeMsToMapSensorToFile[gestureName][timeMs][sensorName] = csvFilename\n",
    "        # print (mapGestureNameToMapEndTimeMsToMapSensorToFile)\n",
    "    \n",
    "    print(\"Found {} gestures\".format(len(mapGestureNameToMapEndTimeMsToMapSensorToFile)))\n",
    "    \n",
    "    # track the longest array so we can resize accordingly (by padding with zeros currently)\n",
    "    maxArrayLength = -1\n",
    "    trialWithMostSensorEvents = None\n",
    "    \n",
    "    # Now we need to loop through the data and sort each gesture set by timems values \n",
    "    # (so that we have trial 1, 2, 3, etc.)\n",
    "    for gestureName, mapEndTimeMsToMapSensorToFile in mapGestureNameToMapEndTimeMsToMapSensorToFile.items():\n",
    "        gestureTrialNum = 0\n",
    "        mapGestureNameToTrialList[gestureName] = list()\n",
    "        for endTimeMs in sorted(mapEndTimeMsToMapSensorToFile.keys()):\n",
    "            mapSensorToFile = mapEndTimeMsToMapSensorToFile[endTimeMs]\n",
    "            \n",
    "            accelFilenameWithPath = os.path.join(logPath, mapSensorToFile[\"Accelerometer\"])\n",
    "            gyroFilenameWithPath = os.path.join(logPath, mapSensorToFile[\"Gyroscope\"])\n",
    "            \n",
    "            gestureTrial = Trial(gestureName, endTimeMs, gestureTrialNum, accelFilenameWithPath, gyroFilenameWithPath)\n",
    "            mapGestureNameToTrialList[gestureName].append(gestureTrial)\n",
    "            \n",
    "            if maxArrayLength < len(gestureTrial.accel.x):\n",
    "                maxArrayLength = len(gestureTrial.accel.x)\n",
    "                trialWithMostSensorEvents = gestureTrial\n",
    "            \n",
    "            gestureTrialNum = gestureTrialNum + 1\n",
    "        \n",
    "        print(\"Found {} trials for '{}'\".format(len(mapGestureNameToTrialList[gestureName]), gestureName))\n",
    "    \n",
    "    # Some basic preprocessing\n",
    "    # Resize arrays so everything is same length (necessary for shape matching) \n",
    "    print(\"Max trial length across all gesture is '{}' Trial {} with {} sensor events. Resizing all arrays to match\".\n",
    "          format(trialWithMostSensorEvents.gestureName, trialWithMostSensorEvents.trialNum, maxArrayLength))\n",
    "    for gestureName, trialList in mapGestureNameToTrialList.items():\n",
    "        for trial in trialList: \n",
    "            trial.accel.pad_with_zeros(maxArrayLength)\n",
    "            trial.gyro.pad_with_zeros(maxArrayLength)\n",
    "          \n",
    "    return mapGestureNameToTrialList\n",
    "        \n",
    "# Returns the leafs in a path\n",
    "# From: https://stackoverflow.com/a/8384788\n",
    "def path_leaf(path):\n",
    "    head, tail = ntpath.split(path)\n",
    "    return tail or ntpath.basename(head)\n",
    "\n",
    "# Utility function to extract gesture name from filename\n",
    "def extract_gesture_name( filename ):\n",
    "    # leaf = path_leaf(filename)\n",
    "    tokenSplitPos = filename.index('_')\n",
    "    gestureName = filename[:tokenSplitPos]\n",
    "    return gestureName\n",
    "\n",
    "# Returns the minimum number of trials across all gestures (just in case we accidentally recorded a \n",
    "# different number. We should have 5 or 10 each for the A2 assignment)\n",
    "def get_min_num_of_trials( mapGestureToTrials ):\n",
    "    minNumTrials = -1 \n",
    "    for gestureName, trialSet in mapGestureToTrials.items():\n",
    "        if minNumTrials == -1 or minNumTrials > len(trialSet):\n",
    "            minNumTrials = len(trialSet)\n",
    "    return minNumTrials"
   ]
  },
  {
   "cell_type": "code",
   "execution_count": 19,
   "metadata": {},
   "outputs": [
    {
     "name": "stdout",
     "output_type": "stream",
     "text": [
      "Found 100 csv files in D:\\Dropbox\\CSE590_UbiComp\\Git\\CSE590Sp2018\\A02-GestureRecognizer\\JonGestureLogs\n",
      "Found 10 gestures\n",
      "Found 5 trials for 'At Rest'\n",
      "Found 5 trials for 'Backhand Tennis'\n",
      "Found 5 trials for 'Baseball Throw'\n",
      "Found 5 trials for 'Forehand Tennis'\n",
      "Found 5 trials for 'Midair Clockwise O'\n",
      "Found 5 trials for 'Midair Counter Clockwise O'\n",
      "Found 5 trials for 'Midair S'\n",
      "Found 5 trials for 'Midair Zorro Z'\n",
      "Found 5 trials for 'Shake'\n",
      "Found 5 trials for 'Underhand Bowling'\n",
      "Max trial length across all gesture is 'At Rest' Trial 3 with 323 sensor events. Resizing all arrays to match\n"
     ]
    }
   ],
   "source": [
    "# Load the data\n",
    "\n",
    "# You should change the path to the location of the log files on your system\n",
    "# logPath = '/Users/jonf/Dropbox/CSE590_UbiComp/Git/CSE590Sp2018p/A02-GestureRecognizer/JupyterAnalysis/GestureLogs'\n",
    "logPath = \"D:\\Dropbox\\CSE590_UbiComp\\Git\\CSE590Sp2018\\A02-GestureRecognizer\\JonGestureLogs\"\n",
    "\n",
    "mapGestureToTrials = parse_and_create_gesture_trials(logPath)"
   ]
  },
  {
   "cell_type": "code",
   "execution_count": null,
   "metadata": {},
   "outputs": [],
   "source": [
    "# TODO: plot and explore the data. Come up with a shape matching approach \n",
    "# and a trained model approach (e.g., decision tree, SVM) to classify the gestures"
   ]
  },
  {
   "cell_type": "markdown",
   "metadata": {},
   "source": [
    "# Sandbox\n",
    "Everything below here is a Sandbox for you to play. You could do this in another Jupyter Notebook but I often have some cells at the bottom of my notebook that let's me experiment with and play with Python and the numpy, scipy, etc. libraries. I've added some example playground cells that I used when making the assignment.\n",
    "\n",
    "Feel free to delete all of these cells but I thought they might be informative for you."
   ]
  },
  {
   "cell_type": "code",
   "execution_count": 7,
   "metadata": {},
   "outputs": [
    {
     "name": "stdout",
     "output_type": "stream",
     "text": [
      "(array([0, 2], dtype=int64),)\n",
      "['apple' 'apple']\n"
     ]
    }
   ],
   "source": [
    "# Testing to see if the numpy 'where' method supports string matching\n",
    "a = np.array(['apple', 'orange', 'apple', 'banana'])\n",
    "\n",
    "indicesWhereThereAreApples = np.where(a == 'apple')\n",
    "\n",
    "print (indicesWhereThereAreApples)\n",
    "print (a[indicesWhereThereAreApples])"
   ]
  },
  {
   "cell_type": "code",
   "execution_count": 8,
   "metadata": {},
   "outputs": [
    {
     "name": "stdout",
     "output_type": "stream",
     "text": [
      "5\n",
      "7\n",
      "<__main__.DummyClass object at 0x0000021DE06F1EB8>\n"
     ]
    },
    {
     "data": {
      "text/plain": [
       "{'newVar': 7, 'testVar': 5}"
      ]
     },
     "execution_count": 8,
     "metadata": {},
     "output_type": "execute_result"
    }
   ],
   "source": [
    "# Playing around with classes in Python 3. Notice how just like in Javascript, you can add a new member variable\n",
    "# just by starting to use it!\n",
    "\n",
    "class DummyClass:\n",
    "    def __init__(self, variable):\n",
    "        self.testVar = variable\n",
    "        \n",
    "\n",
    "dummy = DummyClass(5)\n",
    "print(dummy.testVar)\n",
    "dummy.newVar = 7 # added a new member variable called newVar here. Cool!\n",
    "print(dummy.newVar)\n",
    "vars(dummy) # prints out the member variables of the class"
   ]
  },
  {
   "cell_type": "code",
   "execution_count": 9,
   "metadata": {},
   "outputs": [
    {
     "name": "stdout",
     "output_type": "stream",
     "text": [
      "(1, 2, 3, 4, 5, 6, 7, 8, 9, 10)\n",
      "1 2 3 4 5 6 7 8 9 10\n",
      "2 3 4 5 6 7 8 9 10\n"
     ]
    }
   ],
   "source": [
    "# Experimenting with how folding and unfolding tuples work\n",
    "testTuple = (1,2,3,4,5,6,7,8,9,10)\n",
    "print(testTuple)\n",
    "print(*testTuple)\n",
    "print(*testTuple[5:])"
   ]
  },
  {
   "cell_type": "code",
   "execution_count": 11,
   "metadata": {},
   "outputs": [
    {
     "name": "stdout",
     "output_type": "stream",
     "text": [
      "['a', 'c', 'd']\n",
      "['c', 'd', 'a']\n",
      "['c', 'a']\n"
     ]
    }
   ],
   "source": [
    "# Experimenting with how we delete things out of lists\n",
    "import random\n",
    "testDict = {\"a\":1, \"c\":3, \"d\":4}\n",
    "a = list(testDict.keys())\n",
    "print(a)\n",
    "random.shuffle(a)\n",
    "print(a)\n",
    "del a[1]\n",
    "print(a)"
   ]
  },
  {
   "cell_type": "code",
   "execution_count": 14,
   "metadata": {},
   "outputs": [
    {
     "name": "stdout",
     "output_type": "stream",
     "text": [
      "[1, 2, 3, 4]\n",
      "[1, 2, 3, 5]\n",
      "[4, 5]\n",
      "[1, 2, 3]\n"
     ]
    }
   ],
   "source": [
    "# Playing around with how we can split up and combine lists in Python\n",
    "testList = [1, 2, 3, 4, 5]\n",
    "index = 4\n",
    "print(testList[0:index] + testList[index + 1:5])\n",
    "\n",
    "index = 3\n",
    "print(testList[0:index] + testList[index + 1:5])\n",
    "\n",
    "print(testList[index:])\n",
    "print(testList[:index])"
   ]
  },
  {
   "cell_type": "code",
   "execution_count": 15,
   "metadata": {},
   "outputs": [
    {
     "data": {
      "text/plain": [
       "array([ 0,  0, -1, -5, -5])"
      ]
     },
     "execution_count": 15,
     "metadata": {},
     "output_type": "execute_result"
    }
   ],
   "source": [
    "# playing around with numpy subtraction. In order for these operations to work\n",
    "# the arrays must be of the same size\n",
    "np1 = np.array([1, 2, 3, 4, 5])\n",
    "np2 = np.array([1, 2, 4, 5, 5])\n",
    "np2 - np1\n",
    "\n",
    "np3 = [1, 2, 3]\n",
    "\n",
    "# the (0,2) value tells pad to pad 0 times in the front of array\n",
    "# and three times to the end of array. See: https://docs.scipy.org/doc/numpy/reference/generated/numpy.pad.html\n",
    "np3_resized = np.pad(np3, (0, 2), 'constant', constant_values=0)\n",
    "np3_resized - np2"
   ]
  },
  {
   "cell_type": "code",
   "execution_count": 16,
   "metadata": {},
   "outputs": [
    {
     "name": "stdout",
     "output_type": "stream",
     "text": [
      "6.324555320336759\n",
      "6.324555320336759\n"
     ]
    }
   ],
   "source": [
    "# Find Euclidean distance between two numpy vector arrays\n",
    "np1 = np.array([1, 2, 3, 4, 5])\n",
    "np2 = np.array([5, 4, 3, 2, 1])\n",
    "\n",
    "# First, we'll try numpy's way of determining Euclidean distance\n",
    "# See: https://stackoverflow.com/a/1401828\n",
    "npDist = np.linalg.norm(np2 - np1)\n",
    "print(npDist)\n",
    "\n",
    "# Next, we'll try scipy's way\n",
    "# See: https://stackoverflow.com/a/21986532\n",
    "from scipy.spatial import distance\n",
    "\n",
    "scipyDist = distance.euclidean(np2,np1)\n",
    "print(scipyDist)"
   ]
  },
  {
   "cell_type": "code",
   "execution_count": 17,
   "metadata": {},
   "outputs": [
    {
     "name": "stdout",
     "output_type": "stream",
     "text": [
      "[20.71252011  8.78988347 16.82944846 36.72949846  4.09536247 10.98916896\n",
      " 20.49924781 42.04752804 23.52361472 32.81979501 25.1537431  32.63775625\n",
      " 29.47310173 14.74481111 27.99181801 28.05595037  6.37351857 11.21620453\n",
      " 20.05507375 27.48057611 46.0554874  30.19780715 16.81600967 46.04017909\n",
      " 14.17316122 23.77002629 13.8218774  13.39551535 25.46883984 39.0992263\n",
      " 39.73306045 35.93992952 36.23930638  5.25965328 11.25497228 23.57120135\n",
      " 24.90890586 47.67212009 43.49724776 48.92544858 24.99838416 32.17393488\n",
      " 47.28216752 18.5817449   0.83783202 33.38589305 48.89446442 15.0173838\n",
      " 29.30864342 13.89376934]\n"
     ]
    },
    {
     "data": {
      "text/plain": [
       "<matplotlib.legend.Legend at 0x21de0806828>"
      ]
     },
     "execution_count": 17,
     "metadata": {},
     "output_type": "execute_result"
    },
    {
     "data": {
      "image/png": "[encoded data removed]",
      "text/plain": [
       "<matplotlib.figure.Figure at 0x21de0718908>"
      ]
     },
     "metadata": {},
     "output_type": "display_data"
    }
   ],
   "source": [
    "# detrend playground\n",
    "from scipy import signal\n",
    "a = np.random.rand(50) * 50\n",
    "print(a)\n",
    "b = np.array(range(0,50))\n",
    "c = a + b\n",
    "\n",
    "fig, axes = plt.subplots()\n",
    "# axes.plot(a)\n",
    "# axes.plot(b)\n",
    "axes.plot(c, label=\"c (avg={:0.1f})\".format(np.mean(c)))\n",
    "c_detrended = signal.detrend(c)\n",
    "axes.plot(c_detrended, label=\"c_detrended (avg={:0.1f})\".format(np.mean(c_detrended)))\n",
    "axes.legend()\n"
   ]
  },
  {
   "cell_type": "code",
   "execution_count": null,
   "metadata": {},
   "outputs": [],
   "source": []
  }
 ],
 "metadata": {
  "kernelspec": {
   "display_name": "Python 3",
   "language": "python",
   "name": "python3"
  },
  "language_info": {
   "codemirror_mode": {
    "name": "ipython",
    "version": 3
   },
   "file_extension": ".py",
   "mimetype": "text/x-python",
   "name": "python",
   "nbconvert_exporter": "python",
   "pygments_lexer": "ipython3",
   "version": "3.6.4"
  }
 },
 "nbformat": 4,
 "nbformat_minor": 2
}
